{
 "cells": [
  {
   "cell_type": "markdown",
   "metadata": {},
   "source": [
    "Predmet: Inteligentná analýza údajov\n",
    "Cvičenie: Piatok 8:00\n",
    "Cvičiaci: Ing. Ondrej Kaššák, PhD.\n",
    "Tím: Miroslav Ivan\n",
    "     Denis Ivanics\n",
    "Č. datasetu : 2\n"
   ]
  }
 ],
 "metadata": {
  "kernelspec": {
   "display_name": "Python 3",
   "language": "python",
   "name": "python3"
  },
  "language_info": {
   "codemirror_mode": {
    "name": "ipython",
    "version": 3
   },
   "file_extension": ".py",
   "mimetype": "text/x-python",
   "name": "python",
   "nbconvert_exporter": "python",
   "pygments_lexer": "ipython3",
   "version": "3.7.3"
  }
 },
 "nbformat": 4,
 "nbformat_minor": 2
}
